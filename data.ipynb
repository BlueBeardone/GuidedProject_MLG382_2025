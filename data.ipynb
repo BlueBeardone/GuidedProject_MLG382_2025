{
 "cells": [
  {
   "cell_type": "code",
   "execution_count": null,
   "id": "d4545e76-aecf-4cd2-9417-810933793fa1",
   "metadata": {},
   "outputs": [],
   "source": [
    "import sqlite3\n",
    "import pandas as pd\n",
    "\n",
    "# Load the cleaned and scaled CSV\n",
    "df_scaled = pd.read_csv(\"/mnt/data/BrightPath_scaled_cleaned_dataset.csv\")\n",
    "\n",
    "# Connect to (or create) SQLite database\n",
    "conn = sqlite3.connect(\"/mnt/data/brightpath_students.db\")\n",
    "cursor = conn.cursor()\n",
    "\n",
    "# Drop the table if it already exists (to avoid duplication when rerunning)\n",
    "cursor.execute(\"DROP TABLE IF EXISTS Students\")\n",
    "\n",
    "# Create the Students table\n",
    "cursor.execute(\"\"\"\n",
    "CREATE TABLE Students (\n",
    "    Age REAL,\n",
    "    Gender REAL,\n",
    "    Ethnicity REAL,\n",
    "    ParentalEducation REAL,\n",
    "    StudyTimeWeekly REAL,\n",
    "    Absences REAL,\n",
    "    Tutoring REAL,\n",
    "    ParentalSupport REAL,\n",
    "    Extracurricular REAL,\n",
    "    Sports REAL,\n",
    "    Music REAL,\n",
    "    Volunteering REAL,\n",
    "    GPA REAL,\n",
    "    GradeClass INTEGER\n",
    ")\n",
    "\"\"\")\n",
    "\n",
    "# Insert DataFrame records into the database\n",
    "df_scaled.to_sql('Students', conn, if_exists='append', index=False)\n",
    "\n",
    "# Confirm by selecting and displaying the first 5 rows\n",
    "df_from_db = pd.read_sql_query(\"SELECT * FROM Students LIMIT 5\", conn)\n",
    "\n",
    "# Close the connection (optional in notebooks but good practice)\n",
    "conn.commit()\n",
    "conn.close()\n",
    "\n",
    "# Show preview of the database content\n",
    "df_from_db\n"
   ]
  }
 ],
 "metadata": {
  "kernelspec": {
   "display_name": "Python [conda env:base] *",
   "language": "python",
   "name": "conda-base-py"
  },
  "language_info": {
   "codemirror_mode": {
    "name": "ipython",
    "version": 3
   },
   "file_extension": ".py",
   "mimetype": "text/x-python",
   "name": "python",
   "nbconvert_exporter": "python",
   "pygments_lexer": "ipython3",
   "version": "3.12.7"
  }
 },
 "nbformat": 4,
 "nbformat_minor": 5
}
