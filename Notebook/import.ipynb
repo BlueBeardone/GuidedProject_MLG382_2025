{
 "cells": [
  {
   "cell_type": "code",
   "execution_count": null,
   "id": "22586d4e",
   "metadata": {},
   "outputs": [
    {
     "name": "stdout",
     "output_type": "stream",
     "text": [
      "(2392, 15)\n",
      "Index(['StudentID', 'Age', 'Gender', 'Ethnicity', 'ParentalEducation',\n",
      "       'StudyTimeWeekly', 'Absences', 'Tutoring', 'ParentalSupport',\n",
      "       'Extracurricular', 'Sports', 'Music', 'Volunteering', 'GPA',\n",
      "       'GradeClass'],\n",
      "      dtype='object')\n",
      "   StudentID  Age  Gender  Ethnicity  ParentalEducation  StudyTimeWeekly  \\\n",
      "0       1001   17       1          0                  2        19.833723   \n",
      "1       1002   18       0          0                  1        15.408756   \n",
      "2       1003   15       0          2                  3         4.210570   \n",
      "3       1004   17       1          0                  3        10.028829   \n",
      "4       1005   17       1          0                  2         4.672495   \n",
      "\n",
      "   Absences  Tutoring  ParentalSupport  Extracurricular  Sports  Music  \\\n",
      "0         7         1                2                0       0      1   \n",
      "1         0         0                1                0       0      0   \n",
      "2        26         0                2                0       0      0   \n",
      "3        14         0                3                1       0      0   \n",
      "4        17         1                3                0       0      0   \n",
      "\n",
      "   Volunteering       GPA  GradeClass  \n",
      "0             0  2.929196         2.0  \n",
      "1             0  3.042915         1.0  \n",
      "2             0  0.112602         4.0  \n",
      "3             0  2.054218         3.0  \n",
      "4             0  1.288061         4.0  \n",
      "<class 'pandas.core.frame.DataFrame'>\n",
      "RangeIndex: 2392 entries, 0 to 2391\n",
      "Data columns (total 15 columns):\n",
      " #   Column             Non-Null Count  Dtype  \n",
      "---  ------             --------------  -----  \n",
      " 0   StudentID          2392 non-null   int64  \n",
      " 1   Age                2392 non-null   int64  \n",
      " 2   Gender             2392 non-null   int64  \n",
      " 3   Ethnicity          2392 non-null   int64  \n",
      " 4   ParentalEducation  2392 non-null   int64  \n",
      " 5   StudyTimeWeekly    2392 non-null   float64\n",
      " 6   Absences           2392 non-null   int64  \n",
      " 7   Tutoring           2392 non-null   int64  \n",
      " 8   ParentalSupport    2392 non-null   int64  \n",
      " 9   Extracurricular    2392 non-null   int64  \n",
      " 10  Sports             2392 non-null   int64  \n",
      " 11  Music              2392 non-null   int64  \n",
      " 12  Volunteering       2392 non-null   int64  \n",
      " 13  GPA                2392 non-null   float64\n",
      " 14  GradeClass         2392 non-null   float64\n",
      "dtypes: float64(3), int64(12)\n",
      "memory usage: 280.4 KB\n",
      "None\n",
      "         StudentID          Age       Gender    Ethnicity  ParentalEducation  \\\n",
      "count  2392.000000  2392.000000  2392.000000  2392.000000        2392.000000   \n",
      "mean   2196.500000    16.468645     0.510870     0.877508           1.746237   \n",
      "std     690.655244     1.123798     0.499986     1.028476           1.000411   \n",
      "min    1001.000000    15.000000     0.000000     0.000000           0.000000   \n",
      "25%    1598.750000    15.000000     0.000000     0.000000           1.000000   \n",
      "50%    2196.500000    16.000000     1.000000     0.000000           2.000000   \n",
      "75%    2794.250000    17.000000     1.000000     2.000000           2.000000   \n",
      "max    3392.000000    18.000000     1.000000     3.000000           4.000000   \n",
      "\n",
      "       StudyTimeWeekly     Absences     Tutoring  ParentalSupport  \\\n",
      "count      2392.000000  2392.000000  2392.000000      2392.000000   \n",
      "mean          9.771992    14.541388     0.301421         2.122074   \n",
      "std           5.652774     8.467417     0.458971         1.122813   \n",
      "min           0.001057     0.000000     0.000000         0.000000   \n",
      "25%           5.043079     7.000000     0.000000         1.000000   \n",
      "50%           9.705363    15.000000     0.000000         2.000000   \n",
      "75%          14.408410    22.000000     1.000000         3.000000   \n",
      "max          19.978094    29.000000     1.000000         4.000000   \n",
      "\n",
      "       Extracurricular       Sports        Music  Volunteering          GPA  \\\n",
      "count      2392.000000  2392.000000  2392.000000   2392.000000  2392.000000   \n",
      "mean          0.383361     0.303512     0.196906      0.157191     1.906186   \n",
      "std           0.486307     0.459870     0.397744      0.364057     0.915156   \n",
      "min           0.000000     0.000000     0.000000      0.000000     0.000000   \n",
      "25%           0.000000     0.000000     0.000000      0.000000     1.174803   \n",
      "50%           0.000000     0.000000     0.000000      0.000000     1.893393   \n",
      "75%           1.000000     1.000000     0.000000      0.000000     2.622216   \n",
      "max           1.000000     1.000000     1.000000      1.000000     4.000000   \n",
      "\n",
      "        GradeClass  \n",
      "count  2392.000000  \n",
      "mean      2.983696  \n",
      "std       1.233908  \n",
      "min       0.000000  \n",
      "25%       2.000000  \n",
      "50%       4.000000  \n",
      "75%       4.000000  \n",
      "max       4.000000  \n"
     ]
    }
   ],
   "source": [
    "#import libraries\n",
    "import pandas as pd\n",
    "import seaborn as sns\n",
    "import matplotlib.pyplot as plt\n",
    "import numpy as np\n",
    "\n",
    "# load the dataset \n",
    "df = pd.read_csv(r'..\\data\\Student_performance_data .csv')\n"
   ]
  },
  {
   "cell_type": "markdown",
   "id": "01db1663",
   "metadata": {},
   "source": [
    "## Understanding the Data"
   ]
  },
  {
   "cell_type": "code",
   "execution_count": null,
   "id": "d1e146d2",
   "metadata": {},
   "outputs": [],
   "source": [
    "# basic info \n",
    "print(\"Columns:\", df.columns) # displays the column names\n",
    "print(\"Information:\") \n",
    "print(df.info()) #displays dataset information         \n",
    "print(\"Summary Statistics (Numerical):\")\n",
    "print(df.describe().T)# displays stats for numeric columns\n",
    "print(\"Missing Values:\", df.isnull().sum().sum())"
   ]
  },
  {
   "cell_type": "markdown",
   "id": "da93f0f8",
   "metadata": {},
   "source": [
    "## Exploratory Data Analysis"
   ]
  },
  {
   "cell_type": "markdown",
   "id": "5ef79be1",
   "metadata": {},
   "source": [
    "Univariate Analysis"
   ]
  },
  {
   "cell_type": "code",
   "execution_count": null,
   "id": "1c4d9cc3",
   "metadata": {},
   "outputs": [],
   "source": [
    "# define the numerical and categorical features\n",
    "numerical_features = ['Age', 'StudyTimeWeekly', 'Absences', 'GPA']\n",
    "categorical_features = ['Gender', 'Ethnicity', 'ParentalEducation', 'Tutoring', \n",
    "                       'ParentalSupport', 'Extracurricular', 'Sports', 'Music', \n",
    "                       'Volunteering', 'GradeClass']"
   ]
  },
  {
   "cell_type": "code",
   "execution_count": null,
   "id": "5b5fbe46",
   "metadata": {},
   "outputs": [],
   "source": [
    "n_cols = 3\n",
    "n_rows = (len(numerical_features) + len(categorical_features) + n_cols - 1) // n_cols\n",
    "fig, axes = plt.subplots(n_rows, n_cols, figsize=(15, 5 * n_rows))\n",
    "axes = axes.flatten()\n",
    "plot_idx = 0\n",
    "# for loop to display the histograms for the numerical features\n",
    "for feature in numerical_features:\n",
    "    sns.histplot(df[feature], bins=20, ax=axes[plot_idx])\n",
    "    axes[plot_idx].set_title(f'Distribution of {feature} (Scaled)')\n",
    "    axes[plot_idx].set_xlabel(feature)\n",
    "    axes[plot_idx].set_ylabel('Count')\n",
    "    plot_idx += 1\n",
    "\n",
    "# for loop to display the histograms for the categorical features\n",
    "for feature in categorical_features:\n",
    "    sns.countplot(x=feature, data=df, ax=axes[plot_idx])\n",
    "    axes[plot_idx].set_title(f'Distribution of {feature}')\n",
    "    axes[plot_idx].set_xlabel(feature)\n",
    "    axes[plot_idx].set_ylabel('Count')\n",
    "    axes[plot_idx].tick_params(axis='x', rotation=45)\n",
    "    plot_idx += 1\n",
    "\n",
    "for i in range(plot_idx, len(axes)):\n",
    "    fig.delaxes(axes[i])\n",
    "\n",
    "plt.tight_layout()\n",
    "plt.show()"
   ]
  },
  {
   "cell_type": "markdown",
   "id": "718acc23",
   "metadata": {},
   "source": [
    "Bivariate Analysis"
   ]
  },
  {
   "cell_type": "code",
   "execution_count": null,
   "id": "c96bd179",
   "metadata": {},
   "outputs": [],
   "source": [
    "#displays boxplots comparing the gradclass to the other features\n",
    "fig, axes = plt.subplots(2, 2, figsize=(12, 8))\n",
    "axes = axes.flatten()\n",
    "for idx, feature in enumerate(numerical_features):\n",
    "    sns.boxplot(x='GradeClass', y=feature, data=df, ax=axes[idx])\n",
    "    axes[idx].set_title(f'{feature} (Scaled) vs. GradeClass')\n",
    "    axes[idx].set_xlabel('GradeClass (0=A, 4=F)')\n",
    "    axes[idx].set_ylabel(feature)\n",
    "plt.tight_layout()\n",
    "plt.show()"
   ]
  },
  {
   "cell_type": "code",
   "execution_count": null,
   "id": "cefb5a21",
   "metadata": {},
   "outputs": [],
   "source": [
    "# displays heatmap\n",
    "plt.figure(figsize=(10, 8))\n",
    "sns.heatmap(df[numerical_features + ['GradeClass']].corr(), annot=True, cmap='coolwarm', vmin=-1, vmax=1)\n",
    "plt.title('Correlation Heatmap')\n",
    "plt.show()"
   ]
  },
  {
   "cell_type": "code",
   "execution_count": null,
   "id": "2b6a7a21",
   "metadata": {},
   "outputs": [],
   "source": [
    "# Print hypothesis validation summary\n",
    "print(\"Hypothesis Validation Summary:\")\n",
    "print(\"\\nH1: Students with fewer weekly study hours and higher absence rates are more likely to belong to lower GradeClass categories (D or F).\")\n",
    "print(\"Observation: Boxplot shows lower median StudyTimeWeekly and higher median Absences for GradeClass 3 (D) and 4 (F). Heatmap likely shows negative correlation for StudyTimeWeekly (~-0.3) and positive for Absences (~0.6) with GradeClass.\")\n",
    "\n",
    "print(\"\\nH2: Students receiving tutoring are more likely to achieve higher grades (GradeClass A or B).\")\n",
    "print(\"Observation: Point plot shows slightly lower mean GradeClass for Tutoring=1 (~1.3, B/C) vs. Tutoring=0 (~1.6, C), with overlapping error bars.\")\n",
    "\n",
    "print(\"\\nH3: Higher levels of parental education and parental support are positively correlated with better academic performance.\")\n",
    "print(\"Observation: Point plots show decreasing mean GradeClass for higher ParentalEducation (e.g., 4 ~1.0) and ParentalSupport (e.g., 4 ~0.5), with stronger trend for ParentalSupport.\")\n",
    "\n",
    "print(\"\\nH4: Participation in extracurricular activities, especially music and sports, is associated with improved academic performance.\")\n",
    "print(\"Observation: Point plots show slightly lower mean GradeClass for Extracurricular=1 (~1.4), Sports=1 (~1.3), Music=1 (~1.3) vs. non-participation (~1.5–1.7), with modest effects.\")\n",
    "\n",
    "print(\"\\nH5: Volunteering is positively correlated with higher GPA and better GradeClass categorisation.\")\n",
    "print(\"Observation: Point plot shows slightly lower mean GradeClass for Volunteering=1 (~1.4) vs. 0 (~1.6). Boxplot shows slightly higher median GPA for Volunteering=1, with weak effect.\")\n",
    "\n",
    "print(\"\\nH6: There are significant differences in academic performance (GradeClass) across gender and ethnicity groups, potentially highlighting gaps in equitable support.\")\n",
    "print(\"Observation: Point plots show minimal differences—Gender: Male (~1.5) vs. Female (~1.4); Ethnicity: slight variations (e.g., Asian ~1.3, Other ~1.7), with overlapping error bars.\")"
   ]
  }
 ],
 "metadata": {
  "kernelspec": {
   "display_name": "base",
   "language": "python",
   "name": "python3"
  },
  "language_info": {
   "codemirror_mode": {
    "name": "ipython",
    "version": 3
   },
   "file_extension": ".py",
   "mimetype": "text/x-python",
   "name": "python",
   "nbconvert_exporter": "python",
   "pygments_lexer": "ipython3",
   "version": "3.12.7"
  }
 },
 "nbformat": 4,
 "nbformat_minor": 5
}
